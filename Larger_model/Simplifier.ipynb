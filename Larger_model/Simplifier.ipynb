{
 "cells": [
  {
   "cell_type": "code",
   "execution_count": 2,
   "id": "245b4714",
   "metadata": {},
   "outputs": [],
   "source": [
    "import os\n",
    "import PyPDF2\n",
    "import re\n",
    "import subprocess\n",
    "import tempfile"
   ]
  },
  {
   "cell_type": "code",
   "execution_count": 3,
   "id": "284fe22a",
   "metadata": {},
   "outputs": [
    {
     "name": "stdout",
     "output_type": "stream",
     "text": [
      "Provided proper attribution is provided, Google hereby grants permission to\n",
      "reproduce the tables and figures in this paper solely for use in journalistic or\n",
      "scholarly works.\n",
      "Attention Is All You Need\n",
      "Ashish Vaswani∗\n",
      "Google Brain\n",
      "avaswani@google.comNoam Shazeer∗\n",
      "Google Brain\n",
      "noam@google.comNiki Parmar∗\n",
      "Google Research\n",
      "nikip@google.comJakob Uszkoreit∗\n",
      "Google Research\n",
      "usz@google.com\n",
      "Llion Jones∗\n",
      "Google Research\n",
      "llion@google.comAidan N. Gomez∗ †\n",
      "University of Toronto\n",
      "aidan@cs.toronto.eduŁukasz Kaiser∗\n",
      "Google Brain\n",
      "lukaszkaiser@google.com\n",
      "Illia Polosukhin∗ ‡\n",
      "illia.polosukhin@gmail.com\n",
      "Abstract\n",
      "The dominant sequence transduction models are based on complex recurrent or\n",
      "convolutional neural networks that include an encoder and a decoder. The best\n",
      "performing models also connect the encoder and decoder through an attention\n",
      "mechanism. We propose a new simple network architecture, the Transformer,\n",
      "based solely on attention mechanisms, dispensing with recurrence and convolutions\n",
      "entirely. Experiments on two machine translation tasks show these models to\n",
      "be superior in quality while being more parallelizable and requiring significantly\n",
      "less time to train. Our model achieves 28.4 BLEU on the WMT 2014 English-\n",
      "to-German translation task, improving over the existing best results, including\n",
      "ensembles, by over 2 BLEU. On the WMT 2014 English-to-French translation task,\n",
      "our model establishes a new single-model state-of-the-art BLEU score of 41.8 after\n",
      "training for 3.5 days on eight GPUs, a small fraction of the training costs of the\n",
      "best models from the literature. We show that the Transformer generalizes well to\n",
      "other tasks by applying it successfully to English constituency parsing both with\n",
      "large and limited training data.\n",
      "∗Equal contribution. Listing order is random. Jakob proposed replacing RNNs with self-attention and started\n",
      "the effort to evaluate this idea. Ashish, with Illia, designed and implemented the first Transformer models and\n",
      "has been crucially involved in every aspect\n"
     ]
    }
   ],
   "source": [
    "def extract_text_from_pdf(pdf_path):\n",
    "    text = \"\"\n",
    "    with open(pdf_path, 'rb') as file:\n",
    "        reader = PyPDF2.PdfReader(file)\n",
    "        for page in reader.pages:\n",
    "            text += page.extract_text()\n",
    "    return text\n",
    "\n",
    "# ✅ Example usage\n",
    "pdf_path = \"Academic_Papers/Attention_is_all_you_need.pdf\"\n",
    "text = extract_text_from_pdf(pdf_path)\n",
    "print(text[:2000])  # preview"
   ]
  },
  {
   "cell_type": "code",
   "execution_count": null,
   "id": "8a368326",
   "metadata": {},
   "outputs": [
    {
     "name": "stdout",
     "output_type": "stream",
     "text": [
      "Provided proper attribution is provided, Google hereby grants permission to\n",
      "reproduce the tables and figures in this paper solely for use in journalistic or\n",
      "scholarly works.\n",
      "Attention Is All You Need\n",
      "Ashish Vaswani∗\n",
      "Google Brain\n",
      "avaswani@google.comNoam Shazeer∗\n",
      "Google Brain\n",
      "noam@google.comNiki Parmar∗\n",
      "Google Research\n",
      "nikip@google.comJakob Uszkoreit∗\n",
      "Google Research\n",
      "usz@google.com\n",
      "Llion Jones∗\n",
      "Google Research\n",
      "llion@google.comAidan N. Gomez∗ †\n",
      "University of Toronto\n",
      "aidan@cs.toronto.eduŁukasz Kaiser∗\n",
      "Google Brain\n",
      "lukaszkaiser@google.com\n",
      "Illia Polosukhin∗ ‡\n",
      "illia.polosukhin@gmail.com\n",
      "Abstract\n",
      "The dominant sequence transduction models are based on complex recurrent or\n",
      "convolutional neural networks that include an encoder and a decoder. The best\n",
      "performing models also connect the encoder and decoder through an attention\n",
      "mechanism. We propose a new simple network architecture, the Transformer,\n",
      "based solely on attention mechanisms, dispensing with recurrence and convolutions\n",
      "entirely. Experime\n"
     ]
    }
   ],
   "source": [
    "def extract_abstract(text):\n",
    "    # Try to find 'Abstract' section more robustly\n",
    "    abstract_pattern = re.compile(\n",
    "        r\"(?:^|\\n)(abstract|ABSTRACT)\\s*[:\\-]?\\s*\\n?(.*?)(?=\\n\\s*[A-Z][A-Z\\s]{3,}\\n)\",  # Next section is ALL CAPS\n",
    "        re.DOTALL\n",
    "    )\n",
    "    match = abstract_pattern.search(text)\n",
    "    if match:\n",
    "        return match.group(2).strip()\n",
    "    \n",
    "    # Fallback 1: Try simpler pattern\n",
    "    fallback_match = re.search(r\"(?:^|\\n)(abstract|ABSTRACT)[\\s:\\-]*\\n?(.*?)(\\n\\n|\\n[A-Z]{2,})\", text, re.DOTALL)\n",
    "    if fallback_match:\n",
    "        return fallback_match.group(2).strip()\n",
    "\n",
    "    # Fallback 2: Return first 1000 characters if all else fails\n",
    "    return text[:1000].strip()\n",
    "\n",
    "abstract = extract_abstract(text)\n",
    "print(abstract)"
   ]
  },
  {
   "cell_type": "code",
   "execution_count": 7,
   "id": "248dbbd7",
   "metadata": {},
   "outputs": [],
   "source": [
    "def simplify_abstract(abstract, model_path):\n",
    "    prompt = f\"\"\"<|system|>\n",
    "You simplify research abstracts into plain English.\n",
    "<|user|>\n",
    "Simplify this abstract:\n",
    "\\\"\\\"\\\"{abstract.strip()}\\\"\\\"\\\"\n",
    "<|assistant|>\n",
    "\"\"\"\n",
    "\n",
    "    with tempfile.NamedTemporaryFile(mode='w+', delete=False) as f:\n",
    "        f.write(prompt)\n",
    "        f.flush()\n",
    "\n",
    "        result = subprocess.run(\n",
    "            [\n",
    "                \"./llama.cpp/build/bin/llama-cli\",\n",
    "                \"-m\", model_path,\n",
    "                \"-f\", f.name,\n",
    "                \"--n-predict\", \"512\",\n",
    "                \"--temp\", \"0.7\"\n",
    "            ],\n",
    "            capture_output=True,\n",
    "            text=True\n",
    "        )\n",
    "        return result.stdout"
   ]
  },
  {
   "cell_type": "code",
   "execution_count": 8,
   "id": "fd720f4b",
   "metadata": {},
   "outputs": [],
   "source": [
    "def extract_last_assistant_response(output_text: str) -> str:\n",
    "    parts = output_text.split(\"<|assistant|>\")\n",
    "    response = parts[-1] if len(parts) > 1 else output_text\n",
    "    return response.replace(\"[end of text]\", \"\").strip()"
   ]
  },
  {
   "cell_type": "code",
   "execution_count": 10,
   "id": "aad78bdd",
   "metadata": {},
   "outputs": [],
   "source": [
    "abstract = \"The dominant sequence transduction models are based on complex recurrent \" \\\n",
    "\"or convolutional neural networks that include an encoder and a decoder. The best performing \" \\\n",
    "\"models also connect the encoder and decoder through an attention mechanism. We propose a \" \\\n",
    "\"new simple network architecture, the Transformer, based solely on attention mechanisms, dispensing \" \\\n",
    "\"with recurrence and convolutions entirely. Experiments on two machine translation tasks show these \" \\\n",
    "\"models to be superior in quality while being more parallelizable and requiring significantly less \" \\\n",
    "\"time to train. Our model achieves 28.4 BLEU on the WMT 2014 English-to-German translation task, \" \\\n",
    "\"improving over the existing best results, including ensembles, by over 2 BLEU. On the WMT 2014 \" \\\n",
    "\"English-to-French translation task, our model establishes a new single-model state-of-the-art \" \\\n",
    "\"BLEU score of 41.8 after training for 3.5 days on eight GPUs, a small fraction of the training \" \\\n",
    "\"costs of the best models from the literature. We show that the Transformer generalizes well to \" \\\n",
    "\"other tasks by applying it successfully to English constituency parsing both with large and limited training data.\""
   ]
  },
  {
   "cell_type": "code",
   "execution_count": 18,
   "id": "a1cbf1a1",
   "metadata": {},
   "outputs": [
    {
     "name": "stdout",
     "output_type": "stream",
     "text": [
      "📝 Simplified Abstract:\n",
      " The Transformer is a new network architecture that uses attention mechanisms to simplify complex recurrent or convolutional neural networks used for sequence transduction tasks like machine translation. It outperforms existing models in quality while being more parallelizable and requiring less time to train. The Transformer achieves a new state-of-the-art BLEU score of 41.8 on the English-to-French translation task and 28.4 BLEU on the English-to-German translation task, improving over previous best results. It also generalizes well to other tasks and can be applied successfully to English constituency parsing with limited training data.\n"
     ]
    }
   ],
   "source": [
    "model_path = \"models/mistral-7b-instruct-v0.1.Q4_K_M.gguf\"\n",
    "\n",
    "simplified_raw = simplify_abstract(abstract, model_path)\n",
    "cleaned_output = extract_last_assistant_response(simplified_raw)\n",
    "\n",
    "print(\"📝 Simplified Abstract:\\n\", cleaned_output)\n",
    "\n",
    "# Optional: save output\n",
    "# with open(\"outputs/simplified_output.txt\", \"w\") as f:\n",
    "#     f.write(cleaned_output)"
   ]
  }
 ],
 "metadata": {
  "kernelspec": {
   "display_name": ".venv",
   "language": "python",
   "name": "python3"
  },
  "language_info": {
   "codemirror_mode": {
    "name": "ipython",
    "version": 3
   },
   "file_extension": ".py",
   "mimetype": "text/x-python",
   "name": "python",
   "nbconvert_exporter": "python",
   "pygments_lexer": "ipython3",
   "version": "3.11.9"
  }
 },
 "nbformat": 4,
 "nbformat_minor": 5
}
